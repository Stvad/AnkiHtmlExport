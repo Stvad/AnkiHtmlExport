{
 "cells": [
  {
   "cell_type": "markdown",
   "source": [
    "# Anki2Roam\n",
    "\n",
    "### Usage\n",
    "1. Exit from Anki\n",
    "1. Find your Anki data folder https://docs.ankiweb.net/#/files?id=file-locations\n",
    "1. Inside that folder - open a subdirectory that matches your profile name\n",
    "1. Inside that directory there would be `collection.anki2` file which is where all your decks and notes and stored.\n",
    "1. Click button `Upload` below and select that files.\n",
    "1. You should be able to select one of your decks to export."
   ],
   "metadata": {
    "collapsed": false
   }
  },
  {
   "cell_type": "code",
   "execution_count": 2,
   "metadata": {},
   "outputs": [
    {
     "data": {
      "application/vnd.jupyter.widget-view+json": {
       "model_id": "bb6ff3cc6b854c328bc04ad1104657d8",
       "version_major": 2,
       "version_minor": 0
      },
      "text/plain": [
       "VBox(children=(FileUpload(value={}, description='Upload', multiple=True), HTML(value=\"Use the above 'Upload' b…"
      ]
     },
     "metadata": {},
     "output_type": "display_data"
    }
   ],
   "source": [
    "from pathlib import Path\n",
    "from ipywidgets import *\n",
    "import anki2roam\n",
    "from anki import Collection\n",
    "\n",
    "# bunch of inspiration from https://github.com/fomightez/3Dscatter_plot-binder/blob/master/3D_scatter_Voila_matplotlibSTREAMLINED.ipynb\n",
    "\n",
    "#select_markdown = widgets.HTML(value=markdown.markdown(\"\"\"Use above button to upload your data file if not among the choices you see listed below.<br/>**Choose the file with the data to plot from below**:\"\"\")) # based on https://github.com/jupyter-widgets/ipywidgets/issues/2428#issuecomment-500084610 and https://ipywidgets.readthedocs.io/en/stable/examples/Widget%20List.html#HTML ; need to pip install markdown first and import it\n",
    "\n",
    "out = widgets.Output()\n",
    "\n",
    "\n",
    "auto_layout = lambda: Layout(height='auto', width='auto')\n",
    "out_text = Textarea(placeholder='Markdown output will appear here', layout=auto_layout())\n",
    "\n",
    "select_deck = Dropdown(options=[], description='Decks:', layout=auto_layout())\n",
    "\n",
    "collection_fname = \"collection.anki2\"\n",
    "\n",
    "@out.capture()\n",
    "def show_decks(change):\n",
    "    out.clear_output()\n",
    "\n",
    "    filename = next(iter(change['new']))\n",
    "    Path(collection_fname).write_bytes(change['new'][filename]['content'])\n",
    "\n",
    "    collection = Collection(collection_fname, log=True)\n",
    "    select_deck.options=tuple(collection.decks.allNames())\n",
    "    collection.close()\n",
    "\n",
    "@out.capture()\n",
    "def export_deck(button):\n",
    "    exporter = anki2roam.MarkdownExporter(select_deck.value, \".\")\n",
    "    out_text.value = exporter.export_text()\n",
    "    print(\"The deck had the following images: \", exporter.images)\n",
    "\n",
    "file_uploader = FileUpload(layout=auto_layout())\n",
    "file_uploader.observe(show_decks, 'value')\n",
    "\n",
    "export_button = Button(description=\"Export selected deck\", layout=auto_layout(), button_style='primary')\n",
    "export_button.on_click(export_deck)\n",
    "\n",
    "VBox([HBox([VBox([file_uploader, export_button]), select_deck]), out_text, out])\n"
   ]
  },
  {
   "cell_type": "code",
   "execution_count": null,
   "outputs": [],
   "source": [],
   "metadata": {
    "collapsed": false,
    "pycharm": {
     "name": "#%%\n"
    }
   }
  },
  {
   "cell_type": "code",
   "execution_count": null,
   "outputs": [],
   "source": [],
   "metadata": {
    "collapsed": false,
    "pycharm": {
     "name": "#%%\n"
    }
   }
  }
 ],
 "metadata": {
  "kernelspec": {
   "display_name": "Python 3",
   "language": "python",
   "name": "python3"
  },
  "language_info": {
   "codemirror_mode": {
    "name": "ipython",
    "version": 3
   },
   "file_extension": ".py",
   "mimetype": "text/x-python",
   "name": "python",
   "nbconvert_exporter": "python",
   "pygments_lexer": "ipython3",
   "version": "3.7.7"
  }
 },
 "nbformat": 4,
 "nbformat_minor": 4
}