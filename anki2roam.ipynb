{
 "cells": [
  {
   "cell_type": "code",
   "execution_count": 2,
   "metadata": {},
   "outputs": [
    {
     "data": {
      "application/vnd.jupyter.widget-view+json": {
       "model_id": "bb6ff3cc6b854c328bc04ad1104657d8",
       "version_major": 2,
       "version_minor": 0
      },
      "text/plain": [
       "VBox(children=(FileUpload(value={}, description='Upload', multiple=True), HTML(value=\"Use the above 'Upload' b…"
      ]
     },
     "metadata": {},
     "output_type": "display_data"
    }
   ],
   "source": [
    "from pathlib import Path\n",
    "import ipywidgets as widgets\n",
    "import anki2roam\n",
    "from anki import Collection\n",
    "\n",
    "#upload_suggest = widgets.Label(value=\"Use above button to upload your data file if not listed among the choices below.)\")\n",
    "#select_markdown = widgets.HTML(value=markdown.markdown(\"\"\"Use above button to upload your data file if not among the choices you see listed below.<br/>**Choose the file with the data to plot from below**:\"\"\")) # based on https://github.com/jupyter-widgets/ipywidgets/issues/2428#issuecomment-500084610 and https://ipywidgets.readthedocs.io/en/stable/examples/Widget%20List.html#HTML ; need to pip install markdown first and import it\n",
    "\n",
    "out = widgets.Output()\n",
    "\n",
    "# @out.capture(clear_output=True,wait=True)\n",
    "# def on_button_clicked(b):\n",
    "#     global file_uploader,select_file, current_file, ax\n",
    "#     # get data file to be used\n",
    "#     current_file = select_file.value\n",
    "#     print(f\"Using data from:\\t{current_file}\")\n",
    "#     from ipywidgets import interact\n",
    "#     from ipywidgets.widgets import FloatSlider, IntSlider, Dropdown\n",
    "#\n",
    "#     view_widget = Dropdown(options=v_angles)\n",
    "#     elevation_widget= IntSlider(value=30, min=0, max=360,step=5, continuous_update=False)\n",
    "#     azimuth_widget= IntSlider(value=185, min=0, max=360,step=5, continuous_update=False)\n",
    "#     def update_elevation_and_azimuth(*args):\n",
    "#         view_nums = view_widget.value.split(\",\")\n",
    "#         view_nums = [int(x) for x in view_nums]\n",
    "#         elevation_widget.value, azimuth_widget.value = view_nums\n",
    "#     view_widget.observe(update_elevation_and_azimuth, 'value')\n",
    "#\n",
    "#     def plot_data(opacity, cmap, coloring,marker_size,view_choice,elevation,azimuth):\n",
    "#         print(azimuth)\n",
    "#\n",
    "#     p = interact(plot_data,\n",
    "#                  opacity=FloatSlider(value=0.75, min=0, max=1.0, step=0.05, readout_format='.3f', continuous_update=False),\n",
    "#                  cmap=Dropdown(value='magma'),\n",
    "#                  coloring=Dropdown(value='alcohol',options=['residual sugar','fixed acidity','alcohol']),\n",
    "#                  marker_size= IntSlider(value=50, min=10, max=180,step=10, continuous_update=False),\n",
    "#                  view_choice=view_widget,\n",
    "#                  elevation= elevation_widget,\n",
    "#                  azimuth= azimuth_widget\n",
    "#                 )\n",
    "#     vbox.children = [file_uploader, select_markdown, select_file,button, out]\n",
    "\n",
    "# button.on_click(on_button_clicked)\n",
    "\n",
    "description = widgets.HTML(value=\"Use the above 'Upload' button to \"\n",
    "                               \"upload your data file if it is not among the choices you see \"\n",
    "                               \"listed below.<br/><b>Click on the file name among list below \"\n",
    "                               \"to select the data to plot</b> and then click the \"\n",
    "                               \"'Plot Selected' button.\")\n",
    "\n",
    "\n",
    "file_uploader = widgets.FileUpload()\n",
    "out_text = widgets.Textarea(value=\"testup2\")\n",
    "out_text.layout.width = '50%'\n",
    "\n",
    "select_deck = widgets.Select(options=[], description='Decks:')\n",
    "select_deck.layout.width = '50%'\n",
    "\n",
    "collection_fname = \"collection.anki2\"\n",
    "# collection = None\n",
    "\n",
    "@out.capture()\n",
    "def show_decks(change):\n",
    "    out.clear_output()\n",
    "\n",
    "    filename = next(iter(change['new']))\n",
    "    Path(collection_fname).write_bytes(change['new'][filename]['content'])\n",
    "\n",
    "    collection = Collection(collection_fname, log=True)\n",
    "    select_deck.options=tuple(collection.decks.allNames())\n",
    "    collection.close()\n",
    "\n",
    "@out.capture()\n",
    "def export_deck(button):\n",
    "    exporter = anki2roam.MarkdownExporter(select_deck.value, \".\")\n",
    "    out_text.value = exporter.export_text()\n",
    "\n",
    "file_uploader.observe(show_decks, 'value')\n",
    "\n",
    "export_button = widgets.Button(description=\"Export selected deck\")\n",
    "export_button.on_click(export_deck)\n",
    "\n",
    "vbox = widgets.VBox([description, file_uploader, select_deck,export_button, out_text, out])\n",
    "vbox\n",
    "\n"
   ]
  },
  {
   "cell_type": "code",
   "execution_count": null,
   "outputs": [],
   "source": [],
   "metadata": {
    "collapsed": false,
    "pycharm": {
     "name": "#%%\n"
    }
   }
  }
 ],
 "metadata": {
  "kernelspec": {
   "display_name": "Python 3",
   "language": "python",
   "name": "python3"
  },
  "language_info": {
   "codemirror_mode": {
    "name": "ipython",
    "version": 3
   },
   "file_extension": ".py",
   "mimetype": "text/x-python",
   "name": "python",
   "nbconvert_exporter": "python",
   "pygments_lexer": "ipython3",
   "version": "3.7.7"
  }
 },
 "nbformat": 4,
 "nbformat_minor": 4
}